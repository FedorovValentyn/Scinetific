{
 "cells": [
  {
   "cell_type": "markdown",
   "metadata": {},
   "source": [
    "# 1. Import Dependencies"
   ]
  },
  {
   "cell_type": "code",
   "execution_count": 1,
   "metadata": {},
   "outputs": [
    {
     "name": "stdout",
     "output_type": "stream",
     "text": [
      "Collecting opencv-python\n",
      "  Using cached opencv_python-4.10.0.84-cp37-abi3-win_amd64.whl.metadata (20 kB)\n",
      "Requirement already satisfied: numpy>=1.21.2 in d:\\tf\\tfodcourse\\py310\\lib\\site-packages (from opencv-python) (1.24.3)\n",
      "Using cached opencv_python-4.10.0.84-cp37-abi3-win_amd64.whl (38.8 MB)\n",
      "Installing collected packages: opencv-python\n",
      "Successfully installed opencv-python-4.10.0.84\n"
     ]
    }
   ],
   "source": [
    "!pip install opencv-python"
   ]
  },
  {
   "cell_type": "code",
   "execution_count": 2,
   "metadata": {},
   "outputs": [],
   "source": [
    "import cv2 \n",
    "import uuid\n",
    "import os\n",
    "import time"
   ]
  },
  {
   "cell_type": "markdown",
   "metadata": {},
   "source": [
    "# 2. Define Images to Collect"
   ]
  },
  {
   "cell_type": "code",
   "execution_count": 13,
   "metadata": {},
   "outputs": [],
   "source": [
    "labels = ['20_hryvnya', '50_hryvnya', '100_hryvnya', '200_hryvnya', 'dollar_1', 'dollar_50', 'dollar_100']\n",
    "number_imgs = 25"
   ]
  },
  {
   "cell_type": "markdown",
   "metadata": {},
   "source": [
    "# 3. Setup Folders "
   ]
  },
  {
   "cell_type": "code",
   "execution_count": 16,
   "metadata": {},
   "outputs": [],
   "source": [
    "IMAGES_PATH = os.path.join('Tensorflow', 'workspace', 'images', 'collectedimages')"
   ]
  },
  {
   "cell_type": "code",
   "execution_count": 18,
   "metadata": {},
   "outputs": [],
   "source": [
    "if not os.path.exists(IMAGES_PATH):\n",
    "    if os.name == 'nt':\n",
    "         !mkdir {IMAGES_PATH}\n",
    "for label in labels:\n",
    "    path = os.path.join(IMAGES_PATH, label)\n",
    "    if not os.path.exists(path):\n",
    "        !mkdir {path}"
   ]
  },
  {
   "cell_type": "markdown",
   "metadata": {},
   "source": [
    "# 4. Capture Images"
   ]
  },
  {
   "cell_type": "code",
   "execution_count": 21,
   "metadata": {},
   "outputs": [
    {
     "name": "stdout",
     "output_type": "stream",
     "text": [
      "Collecting images for 20_hryvnya\n",
      "Collecting image 0\n",
      "Collecting image 1\n",
      "Collecting image 2\n",
      "Collecting image 3\n",
      "Collecting image 4\n",
      "Collecting image 5\n",
      "Collecting image 6\n",
      "Collecting image 7\n",
      "Collecting image 8\n",
      "Collecting image 9\n",
      "Collecting image 10\n",
      "Collecting image 11\n",
      "Collecting image 12\n",
      "Collecting image 13\n",
      "Collecting image 14\n",
      "Collecting image 15\n",
      "Collecting image 16\n",
      "Collecting image 17\n",
      "Collecting image 18\n",
      "Collecting image 19\n",
      "Collecting image 20\n",
      "Collecting image 21\n",
      "Collecting image 22\n",
      "Collecting image 23\n",
      "Collecting image 24\n",
      "Collecting images for 50_hryvnya\n",
      "Collecting image 0\n",
      "Collecting image 1\n",
      "Collecting image 2\n",
      "Collecting image 3\n",
      "Collecting image 4\n",
      "Collecting image 5\n",
      "Collecting image 6\n",
      "Collecting image 7\n",
      "Collecting image 8\n",
      "Collecting image 9\n",
      "Collecting image 10\n",
      "Collecting image 11\n",
      "Collecting image 12\n",
      "Collecting image 13\n",
      "Collecting image 14\n",
      "Collecting image 15\n",
      "Collecting image 16\n",
      "Collecting image 17\n",
      "Collecting image 18\n",
      "Collecting image 19\n",
      "Collecting image 20\n",
      "Collecting image 21\n",
      "Collecting image 22\n",
      "Collecting image 23\n",
      "Collecting image 24\n",
      "Collecting images for 100_hryvnya\n",
      "Collecting image 0\n",
      "Collecting image 1\n",
      "Collecting image 2\n",
      "Collecting image 3\n",
      "Collecting image 4\n",
      "Collecting image 5\n",
      "Collecting image 6\n",
      "Collecting image 7\n",
      "Collecting image 8\n",
      "Collecting image 9\n",
      "Collecting image 10\n",
      "Collecting image 11\n",
      "Collecting image 12\n",
      "Collecting image 13\n",
      "Collecting image 14\n",
      "Collecting image 15\n",
      "Collecting image 16\n",
      "Collecting image 17\n",
      "Collecting image 18\n",
      "Collecting image 19\n",
      "Collecting image 20\n",
      "Collecting image 21\n",
      "Collecting image 22\n",
      "Collecting image 23\n",
      "Collecting image 24\n",
      "Collecting images for 200_hryvnya\n",
      "Collecting image 0\n",
      "Collecting image 1\n",
      "Collecting image 2\n",
      "Collecting image 3\n",
      "Collecting image 4\n",
      "Collecting image 5\n",
      "Collecting image 6\n",
      "Collecting image 7\n",
      "Collecting image 8\n",
      "Collecting image 9\n",
      "Collecting image 10\n",
      "Collecting image 11\n",
      "Collecting image 12\n",
      "Collecting image 13\n",
      "Collecting image 14\n",
      "Collecting image 15\n",
      "Collecting image 16\n",
      "Collecting image 17\n",
      "Collecting image 18\n",
      "Collecting image 19\n",
      "Collecting image 20\n",
      "Collecting image 21\n",
      "Collecting image 22\n",
      "Collecting image 23\n",
      "Collecting image 24\n",
      "Collecting images for dollar_1\n",
      "Collecting image 0\n",
      "Collecting image 1\n",
      "Collecting image 2\n",
      "Collecting image 3\n",
      "Collecting image 4\n",
      "Collecting image 5\n",
      "Collecting image 6\n",
      "Collecting image 7\n",
      "Collecting image 8\n",
      "Collecting image 9\n",
      "Collecting image 10\n",
      "Collecting image 11\n",
      "Collecting image 12\n",
      "Collecting image 13\n",
      "Collecting image 14\n",
      "Collecting image 15\n",
      "Collecting image 16\n",
      "Collecting image 17\n",
      "Collecting image 18\n",
      "Collecting image 19\n",
      "Collecting image 20\n",
      "Collecting image 21\n",
      "Collecting image 22\n",
      "Collecting image 23\n",
      "Collecting image 24\n",
      "Collecting images for dollar_50\n",
      "Collecting image 0\n",
      "Collecting image 1\n",
      "Collecting image 2\n",
      "Collecting image 3\n",
      "Collecting image 4\n",
      "Collecting image 5\n",
      "Collecting image 6\n",
      "Collecting image 7\n",
      "Collecting image 8\n",
      "Collecting image 9\n",
      "Collecting image 10\n",
      "Collecting image 11\n",
      "Collecting image 12\n",
      "Collecting image 13\n",
      "Collecting image 14\n",
      "Collecting image 15\n",
      "Collecting image 16\n",
      "Collecting image 17\n",
      "Collecting image 18\n",
      "Collecting image 19\n",
      "Collecting image 20\n",
      "Collecting image 21\n",
      "Collecting image 22\n",
      "Collecting image 23\n",
      "Collecting image 24\n",
      "Collecting images for dollar_100\n",
      "Collecting image 0\n",
      "Collecting image 1\n",
      "Collecting image 2\n",
      "Collecting image 3\n",
      "Collecting image 4\n",
      "Collecting image 5\n",
      "Collecting image 6\n",
      "Collecting image 7\n",
      "Collecting image 8\n",
      "Collecting image 9\n",
      "Collecting image 10\n",
      "Collecting image 11\n",
      "Collecting image 12\n",
      "Collecting image 13\n",
      "Collecting image 14\n",
      "Collecting image 15\n",
      "Collecting image 16\n",
      "Collecting image 17\n",
      "Collecting image 18\n",
      "Collecting image 19\n",
      "Collecting image 20\n",
      "Collecting image 21\n",
      "Collecting image 22\n",
      "Collecting image 23\n",
      "Collecting image 24\n"
     ]
    }
   ],
   "source": [
    "for label in labels:\n",
    "    cap = cv2.VideoCapture(0)\n",
    "    print('Collecting images for {}'.format(label))\n",
    "    time.sleep(5)\n",
    "    for imgnum in range(number_imgs):\n",
    "        print('Collecting image {}'.format(imgnum))\n",
    "        ret, frame = cap.read()\n",
    "        imgname = os.path.join(IMAGES_PATH,label,label+'.'+'{}.jpg'.format(str(uuid.uuid1())))\n",
    "        cv2.imwrite(imgname, frame)\n",
    "        cv2.imshow('frame', frame)\n",
    "        time.sleep(2)\n",
    "\n",
    "        if cv2.waitKey(1) & 0xFF == ord('q'):\n",
    "            break\n",
    "cap.release()\n",
    "cv2.destroyAllWindows()"
   ]
  },
  {
   "cell_type": "markdown",
   "metadata": {},
   "source": [
    "# 5. Image Labelling"
   ]
  },
  {
   "cell_type": "code",
   "execution_count": 23,
   "metadata": {},
   "outputs": [
    {
     "name": "stdout",
     "output_type": "stream",
     "text": [
      "Collecting pyqt5\n",
      "  Downloading PyQt5-5.15.11-cp38-abi3-win_amd64.whl.metadata (2.1 kB)\n",
      "Requirement already satisfied: lxml in d:\\tf\\tfodcourse\\py310\\lib\\site-packages\\lxml-5.3.0-py3.10-win-amd64.egg (5.3.0)\n",
      "Collecting PyQt5-sip<13,>=12.15 (from pyqt5)\n",
      "  Downloading PyQt5_sip-12.15.0-cp310-cp310-win_amd64.whl.metadata (439 bytes)\n",
      "Collecting PyQt5-Qt5<5.16.0,>=5.15.2 (from pyqt5)\n",
      "  Downloading PyQt5_Qt5-5.15.2-py3-none-win_amd64.whl.metadata (552 bytes)\n",
      "Downloading PyQt5-5.15.11-cp38-abi3-win_amd64.whl (6.9 MB)\n",
      "   ---------------------------------------- 0.0/6.9 MB ? eta -:--:--\n",
      "   ------ --------------------------------- 1.0/6.9 MB 7.2 MB/s eta 0:00:01\n",
      "   --------------------- ------------------ 3.7/6.9 MB 10.4 MB/s eta 0:00:01\n",
      "   -------------------------------- ------- 5.5/6.9 MB 9.9 MB/s eta 0:00:01\n",
      "   ---------------------------------------- 6.9/6.9 MB 9.2 MB/s eta 0:00:00\n",
      "Downloading PyQt5_Qt5-5.15.2-py3-none-win_amd64.whl (50.1 MB)\n",
      "   ---------------------------------------- 0.0/50.1 MB ? eta -:--:--\n",
      "   - -------------------------------------- 1.8/50.1 MB 9.1 MB/s eta 0:00:06\n",
      "   --- ------------------------------------ 3.9/50.1 MB 9.4 MB/s eta 0:00:05\n",
      "   ---- ----------------------------------- 6.0/50.1 MB 9.5 MB/s eta 0:00:05\n",
      "   ------ --------------------------------- 7.9/50.1 MB 9.5 MB/s eta 0:00:05\n",
      "   ------- -------------------------------- 10.0/50.1 MB 9.5 MB/s eta 0:00:05\n",
      "   --------- ------------------------------ 12.1/50.1 MB 9.6 MB/s eta 0:00:04\n",
      "   ----------- ---------------------------- 14.2/50.1 MB 9.7 MB/s eta 0:00:04\n",
      "   ------------ --------------------------- 16.3/50.1 MB 9.7 MB/s eta 0:00:04\n",
      "   -------------- ------------------------- 18.6/50.1 MB 9.8 MB/s eta 0:00:04\n",
      "   ---------------- ----------------------- 20.7/50.1 MB 9.8 MB/s eta 0:00:03\n",
      "   ------------------ --------------------- 22.8/50.1 MB 9.9 MB/s eta 0:00:03\n",
      "   -------------------- ------------------- 25.2/50.1 MB 10.0 MB/s eta 0:00:03\n",
      "   --------------------- ------------------ 27.5/50.1 MB 10.0 MB/s eta 0:00:03\n",
      "   ----------------------- ---------------- 29.4/50.1 MB 10.1 MB/s eta 0:00:03\n",
      "   ------------------------ --------------- 31.2/50.1 MB 9.9 MB/s eta 0:00:02\n",
      "   ------------------------- -------------- 32.2/50.1 MB 9.6 MB/s eta 0:00:02\n",
      "   -------------------------- ------------- 33.0/50.1 MB 9.3 MB/s eta 0:00:02\n",
      "   --------------------------- ------------ 34.1/50.1 MB 9.0 MB/s eta 0:00:02\n",
      "   --------------------------- ------------ 34.9/50.1 MB 8.8 MB/s eta 0:00:02\n",
      "   ---------------------------- ----------- 35.9/50.1 MB 8.5 MB/s eta 0:00:02\n",
      "   ----------------------------- ---------- 37.0/50.1 MB 8.4 MB/s eta 0:00:02\n",
      "   ------------------------------ --------- 38.0/50.1 MB 8.2 MB/s eta 0:00:02\n",
      "   ------------------------------- -------- 39.1/50.1 MB 8.1 MB/s eta 0:00:02\n",
      "   -------------------------------- ------- 40.4/50.1 MB 7.9 MB/s eta 0:00:02\n",
      "   --------------------------------- ------ 41.4/50.1 MB 7.9 MB/s eta 0:00:02\n",
      "   ---------------------------------- ----- 42.7/50.1 MB 7.8 MB/s eta 0:00:01\n",
      "   ---------------------------------- ----- 43.8/50.1 MB 7.7 MB/s eta 0:00:01\n",
      "   ------------------------------------ --- 45.1/50.1 MB 7.6 MB/s eta 0:00:01\n",
      "   ------------------------------------- -- 46.4/50.1 MB 7.6 MB/s eta 0:00:01\n",
      "   -------------------------------------- - 47.7/50.1 MB 7.5 MB/s eta 0:00:01\n",
      "   ---------------------------------------  49.0/50.1 MB 7.5 MB/s eta 0:00:01\n",
      "   ---------------------------------------  50.1/50.1 MB 7.5 MB/s eta 0:00:01\n",
      "   ---------------------------------------- 50.1/50.1 MB 7.3 MB/s eta 0:00:00\n",
      "Downloading PyQt5_sip-12.15.0-cp310-cp310-win_amd64.whl (59 kB)\n",
      "Installing collected packages: PyQt5-Qt5, PyQt5-sip, pyqt5\n",
      "Successfully installed PyQt5-Qt5-5.15.2 PyQt5-sip-12.15.0 pyqt5-5.15.11\n"
     ]
    }
   ],
   "source": [
    "!pip install --upgrade pyqt5 lxml"
   ]
  },
  {
   "cell_type": "code",
   "execution_count": 24,
   "metadata": {},
   "outputs": [],
   "source": [
    "LABELIMG_PATH = os.path.join('Tensorflow', 'labelimg')"
   ]
  },
  {
   "cell_type": "code",
   "execution_count": 25,
   "metadata": {},
   "outputs": [
    {
     "name": "stderr",
     "output_type": "stream",
     "text": [
      "Cloning into 'Tensorflow\\labelimg'...\n"
     ]
    }
   ],
   "source": [
    "if not os.path.exists(LABELIMG_PATH):\n",
    "    !mkdir {LABELIMG_PATH}\n",
    "    !git clone https://github.com/tzutalin/labelImg {LABELIMG_PATH}"
   ]
  },
  {
   "cell_type": "code",
   "execution_count": 26,
   "metadata": {},
   "outputs": [],
   "source": [
    "if os.name == 'posix':\n",
    "    !make qt5py3\n",
    "if os.name =='nt':\n",
    "    !cd {LABELIMG_PATH} && pyrcc5 -o libs/resources.py resources.qrc"
   ]
  },
  {
   "cell_type": "code",
   "execution_count": 39,
   "metadata": {},
   "outputs": [
    {
     "name": "stdout",
     "output_type": "stream",
     "text": [
      "Image:D:\\TF\\TFODCourse\\Tensorflow\\workspace\\images\\collectedimages\\200_hryvnya\\200_hryvnya.cd7b732f-78b9-11ef-841d-9c2f9da4afb8.jpg -> Annotation:D:/TF/TFODCourse/Tensorflow/workspace/images/collectedimages/200_hryvnya\\200_hryvnya.cd7b732f-78b9-11ef-841d-9c2f9da4afb8.xml\n",
      "Image:D:\\TF\\TFODCourse\\Tensorflow\\workspace\\images\\collectedimages\\200_hryvnya\\200_hryvnya.ceb24563-78b9-11ef-ab90-9c2f9da4afb8.jpg -> Annotation:D:/TF/TFODCourse/Tensorflow/workspace/images/collectedimages/200_hryvnya\\200_hryvnya.ceb24563-78b9-11ef-ab90-9c2f9da4afb8.xml\n",
      "Image:D:\\TF\\TFODCourse\\Tensorflow\\workspace\\images\\collectedimages\\200_hryvnya\\200_hryvnya.cfe93676-78b9-11ef-82ae-9c2f9da4afb8.jpg -> Annotation:D:/TF/TFODCourse/Tensorflow/workspace/images/collectedimages/200_hryvnya\\200_hryvnya.cfe93676-78b9-11ef-82ae-9c2f9da4afb8.xml\n",
      "Image:D:\\TF\\TFODCourse\\Tensorflow\\workspace\\images\\collectedimages\\200_hryvnya\\200_hryvnya.d4c23e35-78b9-11ef-9194-9c2f9da4afb8.jpg -> Annotation:D:/TF/TFODCourse/Tensorflow/workspace/images/collectedimages/200_hryvnya\\200_hryvnya.d4c23e35-78b9-11ef-9194-9c2f9da4afb8.xml\n",
      "Image:D:\\TF\\TFODCourse\\Tensorflow\\workspace\\images\\collectedimages\\200_hryvnya\\200_hryvnya.d5f890f1-78b9-11ef-9aa7-9c2f9da4afb8.jpg -> Annotation:D:/TF/TFODCourse/Tensorflow/workspace/images/collectedimages/200_hryvnya\\200_hryvnya.d5f890f1-78b9-11ef-9aa7-9c2f9da4afb8.xml\n",
      "Image:D:\\TF\\TFODCourse\\Tensorflow\\workspace\\images\\collectedimages\\200_hryvnya\\200_hryvnya.d11fa4f8-78b9-11ef-b152-9c2f9da4afb8.jpg -> Annotation:D:/TF/TFODCourse/Tensorflow/workspace/images/collectedimages/200_hryvnya\\200_hryvnya.d11fa4f8-78b9-11ef-b152-9c2f9da4afb8.xml\n",
      "Image:D:\\TF\\TFODCourse\\Tensorflow\\workspace\\images\\collectedimages\\200_hryvnya\\200_hryvnya.d38d459c-78b9-11ef-9ec2-9c2f9da4afb8.jpg -> Annotation:D:/TF/TFODCourse/Tensorflow/workspace/images/collectedimages/200_hryvnya\\200_hryvnya.d38d459c-78b9-11ef-9ec2-9c2f9da4afb8.xml\n",
      "Image:D:\\TF\\TFODCourse\\Tensorflow\\workspace\\images\\collectedimages\\200_hryvnya\\200_hryvnya.d72eb765-78b9-11ef-87f7-9c2f9da4afb8.jpg -> Annotation:D:/TF/TFODCourse/Tensorflow/workspace/images/collectedimages/200_hryvnya\\200_hryvnya.d72eb765-78b9-11ef-87f7-9c2f9da4afb8.xml\n",
      "Image:D:\\TF\\TFODCourse\\Tensorflow\\workspace\\images\\collectedimages\\200_hryvnya\\200_hryvnya.d8657a1c-78b9-11ef-b140-9c2f9da4afb8.jpg -> Annotation:D:/TF/TFODCourse/Tensorflow/workspace/images/collectedimages/200_hryvnya\\200_hryvnya.d8657a1c-78b9-11ef-b140-9c2f9da4afb8.xml\n",
      "Image:D:\\TF\\TFODCourse\\Tensorflow\\workspace\\images\\collectedimages\\200_hryvnya\\200_hryvnya.d99997bc-78b9-11ef-8e55-9c2f9da4afb8.jpg -> Annotation:D:/TF/TFODCourse/Tensorflow/workspace/images/collectedimages/200_hryvnya\\200_hryvnya.d99997bc-78b9-11ef-8e55-9c2f9da4afb8.xml\n",
      "Image:D:\\TF\\TFODCourse\\Tensorflow\\workspace\\images\\collectedimages\\200_hryvnya\\200_hryvnya.d256777f-78b9-11ef-85a6-9c2f9da4afb8.jpg -> Annotation:D:/TF/TFODCourse/Tensorflow/workspace/images/collectedimages/200_hryvnya\\200_hryvnya.d256777f-78b9-11ef-85a6-9c2f9da4afb8.xml\n",
      "Image:D:\\TF\\TFODCourse\\Tensorflow\\workspace\\images\\collectedimages\\200_hryvnya\\200_hryvnya.dacfd028-78b9-11ef-907b-9c2f9da4afb8.jpg -> Annotation:D:/TF/TFODCourse/Tensorflow/workspace/images/collectedimages/200_hryvnya\\200_hryvnya.dacfd028-78b9-11ef-907b-9c2f9da4afb8.xml\n",
      "Image:D:\\TF\\TFODCourse\\Tensorflow\\workspace\\images\\collectedimages\\200_hryvnya\\200_hryvnya.dc0652b7-78b9-11ef-bc80-9c2f9da4afb8.jpg -> Annotation:D:/TF/TFODCourse/Tensorflow/workspace/images/collectedimages/200_hryvnya\\200_hryvnya.dc0652b7-78b9-11ef-bc80-9c2f9da4afb8.xml\n",
      "Image:D:\\TF\\TFODCourse\\Tensorflow\\workspace\\images\\collectedimages\\200_hryvnya\\200_hryvnya.dd3b11ae-78b9-11ef-83c1-9c2f9da4afb8.jpg -> Annotation:D:/TF/TFODCourse/Tensorflow/workspace/images/collectedimages/200_hryvnya\\200_hryvnya.dd3b11ae-78b9-11ef-83c1-9c2f9da4afb8.xml\n",
      "Image:D:\\TF\\TFODCourse\\Tensorflow\\workspace\\images\\collectedimages\\200_hryvnya\\200_hryvnya.de713b52-78b9-11ef-8e69-9c2f9da4afb8.jpg -> Annotation:D:/TF/TFODCourse/Tensorflow/workspace/images/collectedimages/200_hryvnya\\200_hryvnya.de713b52-78b9-11ef-8e69-9c2f9da4afb8.xml\n",
      "Image:D:\\TF\\TFODCourse\\Tensorflow\\workspace\\images\\collectedimages\\200_hryvnya\\200_hryvnya.e0dcb39e-78b9-11ef-9294-9c2f9da4afb8.jpg -> Annotation:D:/TF/TFODCourse/Tensorflow/workspace/images/collectedimages/200_hryvnya\\200_hryvnya.e0dcb39e-78b9-11ef-9294-9c2f9da4afb8.xml\n",
      "Image:D:\\TF\\TFODCourse\\Tensorflow\\workspace\\images\\collectedimages\\200_hryvnya\\200_hryvnya.e5b2cddf-78b9-11ef-bb47-9c2f9da4afb8.jpg -> Annotation:D:/TF/TFODCourse/Tensorflow/workspace/images/collectedimages/200_hryvnya\\200_hryvnya.e5b2cddf-78b9-11ef-bb47-9c2f9da4afb8.xml\n",
      "Image:D:\\TF\\TFODCourse\\Tensorflow\\workspace\\images\\collectedimages\\200_hryvnya\\200_hryvnya.e6e92450-78b9-11ef-ba6c-9c2f9da4afb8.jpg -> Annotation:D:/TF/TFODCourse/Tensorflow/workspace/images/collectedimages/200_hryvnya\\200_hryvnya.e6e92450-78b9-11ef-ba6c-9c2f9da4afb8.xml\n",
      "Image:D:\\TF\\TFODCourse\\Tensorflow\\workspace\\images\\collectedimages\\200_hryvnya\\200_hryvnya.e47f122e-78b9-11ef-8be0-9c2f9da4afb8.jpg -> Annotation:D:/TF/TFODCourse/Tensorflow/workspace/images/collectedimages/200_hryvnya\\200_hryvnya.e47f122e-78b9-11ef-8be0-9c2f9da4afb8.xml\n",
      "Image:D:\\TF\\TFODCourse\\Tensorflow\\workspace\\images\\collectedimages\\200_hryvnya\\200_hryvnya.e81ddb6f-78b9-11ef-8437-9c2f9da4afb8.jpg -> Annotation:D:/TF/TFODCourse/Tensorflow/workspace/images/collectedimages/200_hryvnya\\200_hryvnya.e81ddb6f-78b9-11ef-8437-9c2f9da4afb8.xml\n",
      "Image:D:\\TF\\TFODCourse\\Tensorflow\\workspace\\images\\collectedimages\\200_hryvnya\\200_hryvnya.e212b604-78b9-11ef-8905-9c2f9da4afb8.jpg -> Annotation:D:/TF/TFODCourse/Tensorflow/workspace/images/collectedimages/200_hryvnya\\200_hryvnya.e212b604-78b9-11ef-8905-9c2f9da4afb8.xml\n",
      "Image:D:\\TF\\TFODCourse\\Tensorflow\\workspace\\images\\collectedimages\\200_hryvnya\\200_hryvnya.e9548be1-78b9-11ef-9dcb-9c2f9da4afb8.jpg -> Annotation:D:/TF/TFODCourse/Tensorflow/workspace/images/collectedimages/200_hryvnya\\200_hryvnya.e9548be1-78b9-11ef-9dcb-9c2f9da4afb8.xml\n",
      "Image:D:\\TF\\TFODCourse\\Tensorflow\\workspace\\images\\collectedimages\\200_hryvnya\\200_hryvnya.e348776a-78b9-11ef-929e-9c2f9da4afb8.jpg -> Annotation:D:/TF/TFODCourse/Tensorflow/workspace/images/collectedimages/200_hryvnya\\200_hryvnya.e348776a-78b9-11ef-929e-9c2f9da4afb8.xml\n"
     ]
    }
   ],
   "source": [
    "!cd {LABELIMG_PATH} && python labelImg.py"
   ]
  },
  {
   "cell_type": "markdown",
   "metadata": {},
   "source": [
    "# 6. Move them into a Training and Testing Partition"
   ]
  },
  {
   "cell_type": "markdown",
   "metadata": {},
   "source": [
    "# OPTIONAL - 7. Compress them for Colab Training"
   ]
  },
  {
   "cell_type": "code",
   "execution_count": 37,
   "metadata": {},
   "outputs": [],
   "source": [
    "TRAIN_PATH = os.path.join('Tensorflow', 'workspace', 'images', 'train')\n",
    "TEST_PATH = os.path.join('Tensorflow', 'workspace', 'images', 'test')\n",
    "ARCHIVE_PATH = os.path.join('Tensorflow', 'workspace', 'images', 'archive.tar.gz')"
   ]
  },
  {
   "cell_type": "code",
   "execution_count": 21,
   "metadata": {},
   "outputs": [],
   "source": [
    "!tar -czf {ARCHIVE_PATH} {TRAIN_PATH} {TEST_PATH}"
   ]
  },
  {
   "cell_type": "code",
   "execution_count": null,
   "metadata": {},
   "outputs": [],
   "source": []
  }
 ],
 "metadata": {
  "kernelspec": {
   "display_name": "py310",
   "language": "python",
   "name": "py310"
  },
  "language_info": {
   "codemirror_mode": {
    "name": "ipython",
    "version": 3
   },
   "file_extension": ".py",
   "mimetype": "text/x-python",
   "name": "python",
   "nbconvert_exporter": "python",
   "pygments_lexer": "ipython3",
   "version": "3.10.14"
  }
 },
 "nbformat": 4,
 "nbformat_minor": 4
}
